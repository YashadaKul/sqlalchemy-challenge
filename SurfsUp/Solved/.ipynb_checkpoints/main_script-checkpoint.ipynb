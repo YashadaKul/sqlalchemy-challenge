{
 "cells": [
  {
   "cell_type": "markdown",
   "id": "144d2299-92cd-4730-9abd-d938ce983f93",
   "metadata": {},
   "source": [
    "## Setup"
   ]
  },
  {
   "cell_type": "code",
   "execution_count": 1,
   "id": "7558698b-fe5e-4bbc-bb95-4b0d00e4f081",
   "metadata": {},
   "outputs": [],
   "source": [
    "#Dependencies\n",
    "import matplotlib\n",
    "from matplotlib import style\n",
    "from matplotlib import ticker\n",
    "style.use('fivethirtyeight')\n",
    "import matplotlib.pyplot as plt\n",
    "import pandas as pd\n",
    "\n",
    "# Python SQL toolkit and Object Relational Mapper\n",
    "import sqlalchemy\n",
    "from sqlalchemy.ext.automap import automap_base\n",
    "from sqlalchemy.orm import Session\n",
    "from sqlalchemy import create_engine, text, inspect, func\n",
    "import datetime as dt"
   ]
  },
  {
   "cell_type": "code",
   "execution_count": 2,
   "id": "5c937fb9-6a0a-4173-a32d-957d49b22364",
   "metadata": {},
   "outputs": [],
   "source": [
    "#Create an engine\n",
    "engine = create_engine(\"sqlite:///./Resources/hawaii.sqlite\", echo=False)"
   ]
  },
  {
   "cell_type": "code",
   "execution_count": 3,
   "id": "9f5689bf-e34f-4651-bbab-aec1d100ccec",
   "metadata": {},
   "outputs": [
    {
     "data": {
      "text/plain": [
       "['measurement', 'station']"
      ]
     },
     "execution_count": 3,
     "metadata": {},
     "output_type": "execute_result"
    }
   ],
   "source": [
    "#Get names of all tables in database\n",
    "inspector = inspect(engine)\n",
    "inspector.get_table_names()"
   ]
  },
  {
   "cell_type": "code",
   "execution_count": 4,
   "id": "1e9c3c16-30ba-402e-b588-3fd2c480608c",
   "metadata": {},
   "outputs": [
    {
     "name": "stdout",
     "output_type": "stream",
     "text": [
      "id INTEGER\n",
      "station TEXT\n",
      "date TEXT\n",
      "prcp FLOAT\n",
      "tobs FLOAT\n"
     ]
    }
   ],
   "source": [
    "#Get names of all columns and their type in table measurement\n",
    "columns_measurement = inspector.get_columns('measurement')\n",
    "for c in columns_measurement:\n",
    "    print(c['name'], c[\"type\"])"
   ]
  },
  {
   "cell_type": "code",
   "execution_count": 5,
   "id": "cc3a2a12-1266-4628-b23b-9babd7b42ffb",
   "metadata": {},
   "outputs": [
    {
     "name": "stdout",
     "output_type": "stream",
     "text": [
      "id INTEGER\n",
      "station TEXT\n",
      "name TEXT\n",
      "latitude FLOAT\n",
      "longitude FLOAT\n",
      "elevation FLOAT\n"
     ]
    }
   ],
   "source": [
    "#Get names of all columns and their type in table station\n",
    "columns_station = inspector.get_columns('station')\n",
    "for c in columns_station:\n",
    "    print(c['name'], c[\"type\"])"
   ]
  },
  {
   "cell_type": "code",
   "execution_count": 6,
   "id": "29da7bd1-c1e6-45e8-8786-e0b673c4c0c8",
   "metadata": {},
   "outputs": [
    {
     "name": "stderr",
     "output_type": "stream",
     "text": [
      "/var/folders/tn/7xgwzpvd48l_vrzdsn4gsdxm0000gn/T/ipykernel_72018/2595250744.py:2: RemovedIn20Warning: Deprecated API features detected! These feature(s) are not compatible with SQLAlchemy 2.0. To prevent incompatible upgrades prior to updating applications, ensure requirements files are pinned to \"sqlalchemy<2.0\". Set environment variable SQLALCHEMY_WARN_20=1 to show all deprecation warnings.  Set environment variable SQLALCHEMY_SILENCE_UBER_WARNING=1 to silence this message. (Background on SQLAlchemy 2.0 at: https://sqlalche.me/e/b8d9)\n",
      "  engine.execute(text('SELECT * FROM measurement LIMIT 5')).fetchall()\n"
     ]
    },
    {
     "data": {
      "text/plain": [
       "[(0, 'USC00519397', '2010-01-01', 2.0, 18.3),\n",
       " (1, 'USC00519397', '2010-01-02', 0.0, 17.2),\n",
       " (2, 'USC00519397', '2010-01-03', 0.0, 23.3),\n",
       " (3, 'USC00519397', '2010-01-04', 0.0, 24.4),\n",
       " (4, 'USC00519397', '2010-01-06', None, 22.8)]"
      ]
     },
     "execution_count": 6,
     "metadata": {},
     "output_type": "execute_result"
    }
   ],
   "source": [
    "#Get first 5 entries from measurement table\n",
    "engine.execute(text('SELECT * FROM measurement LIMIT 5')).fetchall()"
   ]
  },
  {
   "cell_type": "code",
   "execution_count": 7,
   "id": "4753582f-8fc5-4a08-97d0-a2fedfbc23aa",
   "metadata": {},
   "outputs": [
    {
     "data": {
      "text/plain": [
       "[(0, 'USC00519397', 'WAIKIKI 717.2, HI US', 21.2716, -157.8168, 0.914),\n",
       " (1, 'USC00513117', 'KANEOHE 838.1, HI US', 21.4234, -157.8015, 4.45),\n",
       " (2, 'USC00514830', 'KUALOA RANCH HEADQUARTERS 886.9, HI US', 21.5213, -157.8374, 2.133),\n",
       " (3, 'USC00517948', 'PEARL CITY, HI US', 21.3934, -157.9751, 3.627),\n",
       " (4, 'USC00518838', 'UPPER WAHIAWA 874.3, HI US', 21.4992, -158.0111, 93.447)]"
      ]
     },
     "execution_count": 7,
     "metadata": {},
     "output_type": "execute_result"
    }
   ],
   "source": [
    "#Get first 5 entries from station table\n",
    "engine.execute(text('SELECT * FROM station LIMIT 5')).fetchall()"
   ]
  },
  {
   "cell_type": "code",
   "execution_count": 8,
   "id": "add4cf82-c15b-45ea-89a7-a0feb32323fa",
   "metadata": {},
   "outputs": [
    {
     "data": {
      "text/plain": [
       "['measurement', 'station']"
      ]
     },
     "execution_count": 8,
     "metadata": {},
     "output_type": "execute_result"
    }
   ],
   "source": [
    "# Reflect Database into ORM class\n",
    "Base = automap_base()\n",
    "Base.prepare(autoload_with=engine)\n",
    "Base.classes.keys()"
   ]
  },
  {
   "cell_type": "code",
   "execution_count": 9,
   "id": "5c3fbdbf-27b8-486d-a59d-c209a3304611",
   "metadata": {},
   "outputs": [],
   "source": [
    "# Map Measurement class\n",
    "measurement = Base.classes.measurement"
   ]
  },
  {
   "cell_type": "code",
   "execution_count": 10,
   "id": "b30e7a7d-7399-4b93-b772-ddd54cf25213",
   "metadata": {},
   "outputs": [],
   "source": [
    "# Map Station class\n",
    "station = Base.classes.station"
   ]
  },
  {
   "cell_type": "code",
   "execution_count": 11,
   "id": "7866cc6c-bf5d-438f-975e-c0adc5fd9d38",
   "metadata": {},
   "outputs": [],
   "source": [
    "#Create a session\n",
    "session = Session(engine)"
   ]
  },
  {
   "cell_type": "markdown",
   "id": "a7fb4627-018a-4a32-98d9-721e5970fa33",
   "metadata": {},
   "source": [
    "## Analysis"
   ]
  },
  {
   "cell_type": "markdown",
   "id": "5497e0cc-9b71-49b8-b1d0-021933cf9138",
   "metadata": {},
   "source": [
    "### Precipitation Analysis"
   ]
  },
  {
   "cell_type": "code",
   "execution_count": 12,
   "id": "a60904fb-fe50-4847-9213-b226103ac049",
   "metadata": {},
   "outputs": [
    {
     "name": "stdout",
     "output_type": "stream",
     "text": [
      "Data exists for [(19550,)] days\n",
      "Earliest date is ('2010-01-01',)\n",
      "Most recent date is ('2017-08-23',)\n"
     ]
    }
   ],
   "source": [
    "# Find the most recent date in the dataset\n",
    "\n",
    "# First find out how many dates in total\n",
    "total_dates = session.query(func.count(measurement.date)).all()\n",
    "print(f\"Data exists for {total_dates} days\")\n",
    "\n",
    "#Now find out the earliest date\n",
    "earliest_date = session.query(measurement.date).order_by(measurement.date).first()\n",
    "print(f\"Earliest date is {earliest_date}\")\n",
    "\n",
    "#Find out the most recent date\n",
    "recent_date = session.query(measurement.date).order_by(measurement.date.desc()).first()\n",
    "print(f\"Most recent date is {recent_date}\")"
   ]
  },
  {
   "cell_type": "code",
   "execution_count": 13,
   "id": "a592584d-7432-42c2-97de-af77060a9670",
   "metadata": {},
   "outputs": [],
   "source": [
    "# Using that date, get the previous 12 months of precipitation data by querying the previous 12 months of data.\n",
    "selected_data = session.query(measurement.date, measurement.prcp).\\\n",
    "    filter(measurement.date <= '2017-08-23').filter(measurement.date >= '2016-08-23').\\\n",
    "    order_by(measurement.date).all()\n",
    "selected_data\n",
    "selected_data = pd.DataFrame(selected_data)\n",
    "prcp_df = selected_data.rename(columns = {\"date\":\"Date\",\"prcp\":\"Precipitation\"})"
   ]
  },
  {
   "cell_type": "code",
   "execution_count": 14,
   "id": "50d763f5-e623-47e5-851e-88e675af7810",
   "metadata": {},
   "outputs": [
    {
     "data": {
      "text/html": [
       "<div>\n",
       "<style scoped>\n",
       "    .dataframe tbody tr th:only-of-type {\n",
       "        vertical-align: middle;\n",
       "    }\n",
       "\n",
       "    .dataframe tbody tr th {\n",
       "        vertical-align: top;\n",
       "    }\n",
       "\n",
       "    .dataframe thead th {\n",
       "        text-align: right;\n",
       "    }\n",
       "</style>\n",
       "<table border=\"1\" class=\"dataframe\">\n",
       "  <thead>\n",
       "    <tr style=\"text-align: right;\">\n",
       "      <th></th>\n",
       "      <th>Date</th>\n",
       "      <th>Precipitation</th>\n",
       "    </tr>\n",
       "  </thead>\n",
       "  <tbody>\n",
       "    <tr>\n",
       "      <th>0</th>\n",
       "      <td>2016-08-23</td>\n",
       "      <td>0.0</td>\n",
       "    </tr>\n",
       "    <tr>\n",
       "      <th>1</th>\n",
       "      <td>2016-08-23</td>\n",
       "      <td>3.8</td>\n",
       "    </tr>\n",
       "    <tr>\n",
       "      <th>2</th>\n",
       "      <td>2016-08-23</td>\n",
       "      <td>1.3</td>\n",
       "    </tr>\n",
       "    <tr>\n",
       "      <th>3</th>\n",
       "      <td>2016-08-23</td>\n",
       "      <td>NaN</td>\n",
       "    </tr>\n",
       "    <tr>\n",
       "      <th>4</th>\n",
       "      <td>2016-08-23</td>\n",
       "      <td>0.5</td>\n",
       "    </tr>\n",
       "    <tr>\n",
       "      <th>...</th>\n",
       "      <td>...</td>\n",
       "      <td>...</td>\n",
       "    </tr>\n",
       "    <tr>\n",
       "      <th>2225</th>\n",
       "      <td>2017-08-22</td>\n",
       "      <td>12.7</td>\n",
       "    </tr>\n",
       "    <tr>\n",
       "      <th>2226</th>\n",
       "      <td>2017-08-23</td>\n",
       "      <td>0.0</td>\n",
       "    </tr>\n",
       "    <tr>\n",
       "      <th>2227</th>\n",
       "      <td>2017-08-23</td>\n",
       "      <td>0.0</td>\n",
       "    </tr>\n",
       "    <tr>\n",
       "      <th>2228</th>\n",
       "      <td>2017-08-23</td>\n",
       "      <td>2.0</td>\n",
       "    </tr>\n",
       "    <tr>\n",
       "      <th>2229</th>\n",
       "      <td>2017-08-23</td>\n",
       "      <td>11.4</td>\n",
       "    </tr>\n",
       "  </tbody>\n",
       "</table>\n",
       "<p>2230 rows × 2 columns</p>\n",
       "</div>"
      ],
      "text/plain": [
       "            Date  Precipitation\n",
       "0     2016-08-23            0.0\n",
       "1     2016-08-23            3.8\n",
       "2     2016-08-23            1.3\n",
       "3     2016-08-23            NaN\n",
       "4     2016-08-23            0.5\n",
       "...          ...            ...\n",
       "2225  2017-08-22           12.7\n",
       "2226  2017-08-23            0.0\n",
       "2227  2017-08-23            0.0\n",
       "2228  2017-08-23            2.0\n",
       "2229  2017-08-23           11.4\n",
       "\n",
       "[2230 rows x 2 columns]"
      ]
     },
     "execution_count": 14,
     "metadata": {},
     "output_type": "execute_result"
    }
   ],
   "source": [
    "prcp_df"
   ]
  },
  {
   "cell_type": "code",
   "execution_count": 18,
   "id": "abf56970-4ab2-45d0-a104-04fd1e195ebe",
   "metadata": {},
   "outputs": [
    {
     "data": {
      "image/png": "[encoded data removed]",
      "text/plain": [
       "<Figure size 640x480 with 1 Axes>"
      ]
     },
     "metadata": {},
     "output_type": "display_data"
    }
   ],
   "source": [
    "prcp_df.plot(kind = 'bar', x = 'Date', y = 'Precipitation')\n",
    "plt.gca().xaxis.set_major_locator(ticker.MaxNLocator(integer=True, nbins=10))\n",
    "plt.xticks(rotation=90)\n",
    "plt.show()"
   ]
  },
  {
   "cell_type": "code",
   "execution_count": 27,
   "id": "9a220af6-dbfd-441f-9319-e6f75a630ea7",
   "metadata": {},
   "outputs": [
    {
     "name": "stdout",
     "output_type": "stream",
     "text": [
      "The summary statistics for precipitation data are as follows:\n",
      "mean          4.505888\n",
      "median        0.500000\n",
      "variance    137.205772\n",
      "stdev        11.713487\n",
      "Name: Precipitation, dtype: float64\n"
     ]
    }
   ],
   "source": [
    "# Use Pandas to print the summary statistics for the precipitation data\n",
    "import statistics as st\n",
    "new_df = prcp_df.dropna()\n",
    "aggregate = new_df['Precipitation'].aggregate([st.mean, st.median, st.variance, st.stdev])\n",
    "print(f'The summary statistics for precipitation data are as follows:')\n",
    "print(aggregate)"
   ]
  },
  {
   "cell_type": "markdown",
   "id": "ec025d53-dfda-4d97-9c78-338886a0b9ec",
   "metadata": {},
   "source": [
    "### Station Analysis"
   ]
  },
  {
   "cell_type": "code",
   "execution_count": null,
   "id": "524aa16b-e807-4681-8d89-27a07c39a0dd",
   "metadata": {},
   "outputs": [],
   "source": [
    "#Design a query to calculate the total number of stations in the dataset."
   ]
  },
  {
   "cell_type": "code",
   "execution_count": null,
   "id": "95d9b51c-9301-4386-8264-54f53270097d",
   "metadata": {},
   "outputs": [],
   "source": [
    "session.close()"
   ]
  }
 ],
 "metadata": {
  "kernelspec": {
   "display_name": "Python 3 (ipykernel)",
   "language": "python",
   "name": "python3"
  },
  "language_info": {
   "codemirror_mode": {
    "name": "ipython",
    "version": 3
   },
   "file_extension": ".py",
   "mimetype": "text/x-python",
   "name": "python",
   "nbconvert_exporter": "python",
   "pygments_lexer": "ipython3",
   "version": "3.10.13"
  }
 },
 "nbformat": 4,
 "nbformat_minor": 5
}
